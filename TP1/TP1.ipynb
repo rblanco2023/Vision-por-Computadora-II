{
  "nbformat": 4,
  "nbformat_minor": 0,
  "metadata": {
    "colab": {
      "name": "TP1.ipynb",
      "provenance": [],
      "collapsed_sections": [],
      "authorship_tag": "ABX9TyOh3Omt/AVpGmMqlQBgP1BY"
    },
    "kernelspec": {
      "name": "python3",
      "display_name": "Python 3"
    },
    "language_info": {
      "name": "python"
    }
  },
  "cells": [
    {
      "cell_type": "markdown",
      "source": [
        "## TP1 VpC2"
      ],
      "metadata": {
        "id": "tC5oC0Zhb92Q"
      }
    },
    {
      "cell_type": "code",
      "execution_count": 1,
      "metadata": {
        "id": "BXRTwxEQD2BT"
      },
      "outputs": [],
      "source": [
        "import numpy as np"
      ]
    },
    {
      "cell_type": "code",
      "source": [
        "# Definimos las funciones convolve y zero_padding\n",
        "\n",
        "def convolve(X, Kernel, Bias):\n",
        "  convolucion = np.sum(X * Kernel) + float(Bias)\n",
        "  return convolucion\n",
        "\n",
        "\n",
        "def zero_padding(X, pad):\n",
        "    pading = np.pad(X, (pad, pad), mode='constant', constant_values = (0,0))\n",
        "    return pading"
      ],
      "metadata": {
        "id": "OYElp2h2D5pR"
      },
      "execution_count": 2,
      "outputs": []
    },
    {
      "cell_type": "code",
      "source": [
        "#Defino la clase para R2\n",
        "class conv():\n",
        "    def __init__(self, kernel_num, kernel_size , padding, stride ):\n",
        "        self.kernel_num = kernel_num\n",
        "        self.kernel_size = kernel_size\n",
        "        self.padding = padding\n",
        "        self.stride = stride\n",
        "        \n",
        "    # Método forward:\n",
        "    \n",
        "    def forward(self, input, kernel, bias):  \n",
        "        (ncapas, filter_size, filter_size) = kernel.shape\n",
        "        (nH, nW) = input.shape\n",
        "        print(\"cantidad de capas = \", ncapas)\n",
        "        #if ncapas != self.kernel_num:\n",
        "            #print('No coincide el número de filtros: {} con el declarado en la instancia: {}'. format(ncapas, self.kernel_num))\n",
        "            #return\n",
        "        if self.padding == 'VALID':\n",
        "            p = 0\n",
        "        elif self.padding == 'SAME':\n",
        "            p = int(((self.stride - 1) * nH - self.stride + filter_size) / 2)\n",
        "        else:\n",
        "            p = self.padding\n",
        "\n",
        "        # calculo la dimencion de salida:\n",
        "        out_H = int((nH + 2 * p - filter_size)/self.stride + 1)\n",
        "        out_W = int((nW + 2 * p - filter_size)/self.stride + 1)\n",
        "       \n",
        "        ini = np.zeros([ncapas, out_H, out_W])\n",
        "\n",
        "        # Padding\n",
        "\n",
        "        Layer_Padded = zero_padding(input, p)\n",
        "        \n",
        "        for j in range(out_H):\n",
        "            y_inicio = self.stride * j\n",
        "            y_fin = y_inicio + filter_size\n",
        "\n",
        "            for i in range(out_W):\n",
        "                x_inicio = self.stride * i\n",
        "                x_fin = x_inicio + filter_size\n",
        "                Slice = Layer_Padded[y_inicio:y_fin, x_inicio:x_fin]\n",
        "                \n",
        "                for capa in range(ncapas):\n",
        "                    filt_ = kernel[capa, :, :]     \n",
        "                    ini[capa, j, i]= np.float32(convolve(Slice, filt_, bias))        \n",
        "  \n",
        "        return ini\n",
        "\n",
        "    # Backward\n",
        "\n",
        "    def backw(self, input, kernel, dL_dO):\n",
        "        (nH, nW) = input.shape  \n",
        "        (ncapas, filter_size, filter_size) = kernel.shape\n",
        "\n",
        "        if self.padding == 'VALID':\n",
        "            p = 0\n",
        "\n",
        "        elif self.padding == 'SAME':\n",
        "            p = int(((self.stride - 1) * nH - self.stride + filter_size) / 2)\n",
        "       \n",
        "        else:\n",
        "            p = self.padding\n",
        "        # calculo la dimencion de salida:\n",
        "        out_H = int((nH + 2 * p - filter_size) / self.stride + 1)\n",
        "        out_W = int((nW + 2 * p - filter_size) / self.stride + 1)\n",
        "\n",
        "        dL_dF = np.zeros([ncapas, out_H, out_W])\n",
        "        \n",
        "        Layer_Padded = zero_padding(input, p)\n",
        "        \n",
        "        for j in range(out_H):\n",
        "            y_inicio = self.stride * j\n",
        "            y_fin = y_inicio + filter_size\n",
        "            for i in range(out_W):\n",
        "                x_inicio = self.stride * i\n",
        "                x_fin = x_inicio + filter_size\n",
        "                \n",
        "                layer = Layer_Padded[y_inicio:y_fin, x_inicio:x_fin]\n",
        "                \n",
        "                for c in range(ncapas):\n",
        "                    dLdO_ = dL_dO[c, :, :]     \n",
        "                    dL_dF[c, j, i]= np.float32(convolve(layer, dL_dO, 0)) \n",
        "        \n",
        "        # Roto la matriz\n",
        "        dL_dX = np.zeros([ncapas, out_H, out_W])\n",
        "        for c in range(ncapas):\n",
        "            filt_ = kernel[c, :, :]\n",
        "            filt_ = np.rot90(filt_, k = 2, axes = (0, 1))\n",
        "            dL_dX[c, :, :] = np.float32(convolve(filt_, dL_dO, 0)) \n",
        "            \n",
        "        return dL_dX, dL_dF\n",
        "    "
      ],
      "metadata": {
        "id": "rdhc-ZHdD_Fi"
      },
      "execution_count": 3,
      "outputs": []
    },
    {
      "cell_type": "code",
      "source": [
        "array = np.random.randint(0,10,(4,4))\n",
        "array"
      ],
      "metadata": {
        "colab": {
          "base_uri": "https://localhost:8080/"
        },
        "id": "2LGcNzXYY2CY",
        "outputId": "6de6e104-177d-4f37-e9a3-50a30f39bacd"
      },
      "execution_count": 4,
      "outputs": [
        {
          "output_type": "execute_result",
          "data": {
            "text/plain": [
              "array([[4, 9, 1, 7],\n",
              "       [0, 3, 2, 6],\n",
              "       [3, 4, 3, 3],\n",
              "       [0, 6, 7, 5]])"
            ]
          },
          "metadata": {},
          "execution_count": 4
        }
      ]
    },
    {
      "cell_type": "code",
      "source": [
        "model = conv(kernel_num = 2, kernel_size = 3, padding = 0, stride = 1)\n",
        "k = np.random.randint(0,10,(2,3,3))\n",
        "dL_dO = np.random.randint(0,10,(2,3,3))\n",
        "k"
      ],
      "metadata": {
        "colab": {
          "base_uri": "https://localhost:8080/"
        },
        "id": "SMMGz4o9EEoe",
        "outputId": "299f1499-23ec-4000-ec8b-3ae167884ed7"
      },
      "execution_count": 5,
      "outputs": [
        {
          "output_type": "execute_result",
          "data": {
            "text/plain": [
              "array([[[0, 3, 1],\n",
              "        [8, 9, 4],\n",
              "        [1, 4, 4]],\n",
              "\n",
              "       [[5, 1, 6],\n",
              "        [6, 0, 6],\n",
              "        [0, 0, 5]]])"
            ]
          },
          "metadata": {},
          "execution_count": 5
        }
      ]
    },
    {
      "cell_type": "code",
      "source": [
        "Q = model.forward(array, k, 1)"
      ],
      "metadata": {
        "colab": {
          "base_uri": "https://localhost:8080/"
        },
        "id": "7Xg6CFo1EHK6",
        "outputId": "d8b259e6-ce2a-400c-9be8-00030bccde03"
      },
      "execution_count": 6,
      "outputs": [
        {
          "output_type": "stream",
          "name": "stdout",
          "text": [
            "cantidad de capas =  2\n"
          ]
        }
      ]
    },
    {
      "cell_type": "code",
      "source": [
        "dLdX, dLdF = model.backw(array, k, dL_dO)\n",
        "dLdF"
      ],
      "metadata": {
        "colab": {
          "base_uri": "https://localhost:8080/"
        },
        "id": "FDZpKt0sEJzM",
        "outputId": "8c2164a1-105b-467c-e048-5b02f261f9c3"
      },
      "execution_count": 7,
      "outputs": [
        {
          "output_type": "execute_result",
          "data": {
            "text/plain": [
              "array([[[238., 251.],\n",
              "        [259., 283.]],\n",
              "\n",
              "       [[238., 251.],\n",
              "        [259., 283.]]])"
            ]
          },
          "metadata": {},
          "execution_count": 7
        }
      ]
    },
    {
      "cell_type": "code",
      "source": [
        "dLdX"
      ],
      "metadata": {
        "colab": {
          "base_uri": "https://localhost:8080/"
        },
        "id": "T6VvkiU_EPVc",
        "outputId": "4df9a6fd-7d6b-4544-9d0b-a15875937485"
      },
      "execution_count": 8,
      "outputs": [
        {
          "output_type": "execute_result",
          "data": {
            "text/plain": [
              "array([[[237., 237.],\n",
              "        [237., 237.]],\n",
              "\n",
              "       [[236., 236.],\n",
              "        [236., 236.]]])"
            ]
          },
          "metadata": {},
          "execution_count": 8
        }
      ]
    }
  ]
}
