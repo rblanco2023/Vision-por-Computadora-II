{
 "cells": [
  {
   "cell_type": "code",
   "execution_count": 58,
   "metadata": {},
   "outputs": [],
   "source": [
    "import numpy as np\n",
    "import matplotlib.pyplot as plt\n",
    "\n",
    "import torch\n",
    "import torchvision\n",
    "import torchsummary\n",
    "\n",
    "#!pip install torchmetrics\n",
    "import torchmetrics"
   ]
  },
  {
   "cell_type": "code",
   "execution_count": 76,
   "metadata": {},
   "outputs": [
    {
     "name": "stdout",
     "output_type": "stream",
     "text": [
      "Files already downloaded and verified\n",
      "Files already downloaded and verified\n"
     ]
    }
   ],
   "source": [
    "data_transforms = torchvision.transforms.Compose([\n",
    "                    #torchvision.transforms.Resize(size=(150, 150)),\n",
    "                    torchvision.transforms.RandomResizedCrop(size=(32, 32), scale=(0.5, 1.0)),\n",
    "                    torchvision.transforms.ColorJitter(saturation=0.08, hue=0.07),\n",
    "                    torchvision.transforms.ToTensor(),\n",
    "                    torchvision.transforms.Normalize(mean=[0.485, 0.456, 0.406], std=[0.229, 0.224, 0.225])\n",
    "                  ])\n",
    "train_set = torchvision.datasets.CIFAR10(root='C:/Users/Augusto/Documents/GitHub/UBA/1-Raul/Vision-por-Computadora-II Practicas/TP2/data', train=True, download=True, transform = data_transforms)\n",
    "test_set = torchvision.datasets.CIFAR10(root='C:/Users/Augusto/Documents/GitHub/UBA/1-Raul/Vision-por-Computadora-II Practicas/TP2/data', train=False, download=True, transform = data_transforms)"
   ]
  },
  {
   "cell_type": "code",
   "execution_count": 77,
   "metadata": {},
   "outputs": [
    {
     "name": "stdout",
     "output_type": "stream",
     "text": [
      "Tamaño del conjunto de entrenamiento: 45000\n",
      "Tamaño del conjunto de validación: 5000\n"
     ]
    }
   ],
   "source": [
    "valid_set_size = 5000\n",
    "\n",
    "train_set, valid_set = torch.utils.data.random_split(train_set, [len(train_set) - valid_set_size, valid_set_size])\n",
    "\n",
    "print(\"Tamaño del conjunto de entrenamiento: {}\".format(len(train_set)))\n",
    "print(\"Tamaño del conjunto de validación: {}\".format(len(valid_set)))"
   ]
  },
  {
   "cell_type": "code",
   "execution_count": 78,
   "metadata": {},
   "outputs": [],
   "source": [
    "train_loader = torch.utils.data.DataLoader(train_set, batch_size=45, shuffle=True)\n",
    "valid_loader = torch.utils.data.DataLoader(valid_set, batch_size=len(valid_set), shuffle=True)\n",
    "test_loader = torch.utils.data.DataLoader(test_set, batch_size=len(test_set), shuffle=True)"
   ]
  },
  {
   "cell_type": "markdown",
   "metadata": {},
   "source": [
    "Defino el modelo y congelo las capas"
   ]
  },
  {
   "cell_type": "code",
   "execution_count": 79,
   "metadata": {},
   "outputs": [],
   "source": [
    "model_conv = torchvision.models.vgg11(pretrained=True)\n",
    "for param in model_conv.parameters():\n",
    "    param.requires_grad = False"
   ]
  },
  {
   "cell_type": "code",
   "execution_count": 80,
   "metadata": {},
   "outputs": [
    {
     "name": "stdout",
     "output_type": "stream",
     "text": [
      "----------------------------------------------------------------\n",
      "        Layer (type)               Output Shape         Param #\n",
      "================================================================\n",
      "            Conv2d-1           [-1, 64, 32, 32]           1,792\n",
      "              ReLU-2           [-1, 64, 32, 32]               0\n",
      "         MaxPool2d-3           [-1, 64, 16, 16]               0\n",
      "            Conv2d-4          [-1, 128, 16, 16]          73,856\n",
      "              ReLU-5          [-1, 128, 16, 16]               0\n",
      "         MaxPool2d-6            [-1, 128, 8, 8]               0\n",
      "            Conv2d-7            [-1, 256, 8, 8]         295,168\n",
      "              ReLU-8            [-1, 256, 8, 8]               0\n",
      "            Conv2d-9            [-1, 256, 8, 8]         590,080\n",
      "             ReLU-10            [-1, 256, 8, 8]               0\n",
      "        MaxPool2d-11            [-1, 256, 4, 4]               0\n",
      "           Conv2d-12            [-1, 512, 4, 4]       1,180,160\n",
      "             ReLU-13            [-1, 512, 4, 4]               0\n",
      "           Conv2d-14            [-1, 512, 4, 4]       2,359,808\n",
      "             ReLU-15            [-1, 512, 4, 4]               0\n",
      "        MaxPool2d-16            [-1, 512, 2, 2]               0\n",
      "           Conv2d-17            [-1, 512, 2, 2]       2,359,808\n",
      "             ReLU-18            [-1, 512, 2, 2]               0\n",
      "           Conv2d-19            [-1, 512, 2, 2]       2,359,808\n",
      "             ReLU-20            [-1, 512, 2, 2]               0\n",
      "        MaxPool2d-21            [-1, 512, 1, 1]               0\n",
      "AdaptiveAvgPool2d-22            [-1, 512, 7, 7]               0\n",
      "           Linear-23                 [-1, 4096]     102,764,544\n",
      "             ReLU-24                 [-1, 4096]               0\n",
      "          Dropout-25                 [-1, 4096]               0\n",
      "           Linear-26                 [-1, 4096]      16,781,312\n",
      "             ReLU-27                 [-1, 4096]               0\n",
      "          Dropout-28                 [-1, 4096]               0\n",
      "           Linear-29                 [-1, 1000]       4,097,000\n",
      "================================================================\n",
      "Total params: 132,863,336\n",
      "Trainable params: 0\n",
      "Non-trainable params: 132,863,336\n",
      "----------------------------------------------------------------\n",
      "Input size (MB): 0.01\n",
      "Forward/backward pass size (MB): 2.94\n",
      "Params size (MB): 506.83\n",
      "Estimated Total Size (MB): 509.78\n",
      "----------------------------------------------------------------\n"
     ]
    },
    {
     "data": {
      "text/plain": [
       "<bound method Module.modules of VGG(\n",
       "  (features): Sequential(\n",
       "    (0): Conv2d(3, 64, kernel_size=(3, 3), stride=(1, 1), padding=(1, 1))\n",
       "    (1): ReLU(inplace=True)\n",
       "    (2): MaxPool2d(kernel_size=2, stride=2, padding=0, dilation=1, ceil_mode=False)\n",
       "    (3): Conv2d(64, 128, kernel_size=(3, 3), stride=(1, 1), padding=(1, 1))\n",
       "    (4): ReLU(inplace=True)\n",
       "    (5): MaxPool2d(kernel_size=2, stride=2, padding=0, dilation=1, ceil_mode=False)\n",
       "    (6): Conv2d(128, 256, kernel_size=(3, 3), stride=(1, 1), padding=(1, 1))\n",
       "    (7): ReLU(inplace=True)\n",
       "    (8): Conv2d(256, 256, kernel_size=(3, 3), stride=(1, 1), padding=(1, 1))\n",
       "    (9): ReLU(inplace=True)\n",
       "    (10): MaxPool2d(kernel_size=2, stride=2, padding=0, dilation=1, ceil_mode=False)\n",
       "    (11): Conv2d(256, 512, kernel_size=(3, 3), stride=(1, 1), padding=(1, 1))\n",
       "    (12): ReLU(inplace=True)\n",
       "    (13): Conv2d(512, 512, kernel_size=(3, 3), stride=(1, 1), padding=(1, 1))\n",
       "    (14): ReLU(inplace=True)\n",
       "    (15): MaxPool2d(kernel_size=2, stride=2, padding=0, dilation=1, ceil_mode=False)\n",
       "    (16): Conv2d(512, 512, kernel_size=(3, 3), stride=(1, 1), padding=(1, 1))\n",
       "    (17): ReLU(inplace=True)\n",
       "    (18): Conv2d(512, 512, kernel_size=(3, 3), stride=(1, 1), padding=(1, 1))\n",
       "    (19): ReLU(inplace=True)\n",
       "    (20): MaxPool2d(kernel_size=2, stride=2, padding=0, dilation=1, ceil_mode=False)\n",
       "  )\n",
       "  (avgpool): AdaptiveAvgPool2d(output_size=(7, 7))\n",
       "  (classifier): Sequential(\n",
       "    (0): Linear(in_features=25088, out_features=4096, bias=True)\n",
       "    (1): ReLU(inplace=True)\n",
       "    (2): Dropout(p=0.5, inplace=False)\n",
       "    (3): Linear(in_features=4096, out_features=4096, bias=True)\n",
       "    (4): ReLU(inplace=True)\n",
       "    (5): Dropout(p=0.5, inplace=False)\n",
       "    (6): Linear(in_features=4096, out_features=1000, bias=True)\n",
       "  )\n",
       ")>"
      ]
     },
     "execution_count": 80,
     "metadata": {},
     "output_type": "execute_result"
    }
   ],
   "source": [
    "torchsummary.summary(model_conv, input_size=(3, 32, 32))\n",
    "model_conv.modules"
   ]
  },
  {
   "cell_type": "markdown",
   "metadata": {},
   "source": [
    "Agrego una capa al final"
   ]
  },
  {
   "cell_type": "code",
   "execution_count": 81,
   "metadata": {},
   "outputs": [],
   "source": [
    "device = torch.device(\"cuda:0\" if torch.cuda.is_available() else \"cpu\")\n",
    "num_ftrs = model_conv.classifier[-1].in_features\n",
    "model_conv.classifier[-1] = torch.nn.Linear(in_features=num_ftrs, out_features=10)"
   ]
  },
  {
   "cell_type": "code",
   "execution_count": 82,
   "metadata": {},
   "outputs": [],
   "source": [
    "model_conv = model_conv.to(device)\n",
    "\n",
    "criterion = torch.nn.CrossEntropyLoss()\n",
    "\n",
    "optimizer_conv = torch.optim.Adam(model_conv.parameters(), lr=0.001)#, momentum=0.9)\n",
    "\n",
    "#exp_lr_scheduler = lr_scheduler.StepLR(optimizer_conv, step_size=7, gamma=0.1)"
   ]
  },
  {
   "cell_type": "code",
   "execution_count": 83,
   "metadata": {},
   "outputs": [],
   "source": [
    "from torch.utils.tensorboard import SummaryWriter\n",
    "writer = SummaryWriter()"
   ]
  },
  {
   "cell_type": "code",
   "execution_count": 84,
   "metadata": {},
   "outputs": [],
   "source": [
    "def train(model_conv, criterion, optimizer, train_loader, valid_loader, epochs):\n",
    "\n",
    "    accuracy_metric = torchmetrics.Accuracy()\n",
    "\n",
    "    if torch.cuda.is_available():\n",
    "        model_conv.to(\"cuda\")\n",
    "        accuracy_metric.to(\"cuda\")\n",
    "\n",
    "    train_loss = []\n",
    "    train_acc = []\n",
    "    valid_loss = []\n",
    "    valid_acc = []\n",
    "\n",
    "    for epoch in range(epochs):\n",
    "\n",
    "        # Pongo el modelo en modo entrenamiento\n",
    "        model_conv.train()\n",
    "\n",
    "        epoch_train_loss = 0.0\n",
    "        epoch_train_accuracy = 0.0\n",
    "\n",
    "        for train_data, train_target in train_loader:\n",
    "            \n",
    "            if torch.cuda.is_available():\n",
    "                train_data = train_data.to(\"cuda\")\n",
    "                train_target = train_target.to(\"cuda\")\n",
    "\n",
    "            optimizer.zero_grad()\n",
    "            output = model_conv(train_data)\n",
    "            loss = criterion(output, train_target)\n",
    "            epoch_train_loss += loss.item()\n",
    "            loss.backward()\n",
    "            optimizer.step()\n",
    "\n",
    "            accuracy = accuracy_metric(output, train_target)\n",
    "            epoch_train_accuracy += accuracy.item()\n",
    "\n",
    "        epoch_train_loss = epoch_train_loss / len(train_loader)\n",
    "        epoch_train_accuracy = epoch_train_accuracy / len(train_loader)\n",
    "        train_loss.append(epoch_train_loss)\n",
    "        train_acc.append(epoch_train_accuracy)\n",
    "\n",
    "        # Pongo el modelo en modo testeo\n",
    "        model_conv.eval()\n",
    "\n",
    "        epoch_valid_loss = 0.0\n",
    "        epoch_valid_accuracy = 0.0\n",
    "\n",
    "        for valid_data, valid_target in valid_loader:\n",
    "            if torch.cuda.is_available():\n",
    "                valid_data = valid_data.to(\"cuda\")\n",
    "                valid_target = valid_target.to(\"cuda\")\n",
    "\n",
    "            output = model_conv(valid_data)\n",
    "            epoch_valid_loss += criterion(output, valid_target).item()\n",
    "            epoch_valid_accuracy += accuracy_metric(output, valid_target).item()\n",
    "            \n",
    "        epoch_valid_loss = epoch_valid_loss / len(valid_loader)\n",
    "        epoch_valid_accuracy = epoch_valid_accuracy / len(valid_loader)\n",
    "        valid_loss.append(epoch_valid_loss)\n",
    "        valid_acc.append(epoch_valid_accuracy)\n",
    "\n",
    "        print(\"Epoch: {}/{} - Train loss {:.6f} - Train Accuracy {:.6f} - Valid Loss {:.6f} - Valid Accuracy {:.6f}\".format(\n",
    "        epoch+1, epochs, epoch_train_loss, epoch_train_accuracy, epoch_valid_loss, epoch_valid_accuracy))\n",
    "\n",
    "    history = {}\n",
    "    history[\"train_loss\"] = train_loss\n",
    "    history[\"train_acc\"] = train_acc\n",
    "    history[\"valid_loss\"] = valid_loss\n",
    "    history[\"valid_acc\"] = valid_acc\n",
    "\n",
    "    return model_conv, history"
   ]
  },
  {
   "cell_type": "code",
   "execution_count": 85,
   "metadata": {},
   "outputs": [
    {
     "name": "stdout",
     "output_type": "stream",
     "text": [
      "Epoch: 1/20 - Train loss 1.842894 - Train Accuracy 0.482956 - Valid Loss 1.356912 - Valid Accuracy 0.564000\n",
      "Epoch: 2/20 - Train loss 1.935928 - Train Accuracy 0.495111 - Valid Loss 1.372415 - Valid Accuracy 0.576000\n",
      "Epoch: 3/20 - Train loss 1.994434 - Train Accuracy 0.494867 - Valid Loss 1.423724 - Valid Accuracy 0.567000\n",
      "Epoch: 4/20 - Train loss 1.997179 - Train Accuracy 0.499622 - Valid Loss 1.378208 - Valid Accuracy 0.576400\n",
      "Epoch: 5/20 - Train loss 1.992183 - Train Accuracy 0.504911 - Valid Loss 1.442853 - Valid Accuracy 0.558200\n",
      "Epoch: 6/20 - Train loss 2.016596 - Train Accuracy 0.499889 - Valid Loss 1.383313 - Valid Accuracy 0.579400\n",
      "Epoch: 7/20 - Train loss 2.016782 - Train Accuracy 0.501667 - Valid Loss 1.395169 - Valid Accuracy 0.577800\n",
      "Epoch: 8/20 - Train loss 1.993845 - Train Accuracy 0.503311 - Valid Loss 1.422348 - Valid Accuracy 0.569800\n",
      "Epoch: 9/20 - Train loss 2.013809 - Train Accuracy 0.501289 - Valid Loss 1.378910 - Valid Accuracy 0.580200\n",
      "Epoch: 10/20 - Train loss 2.005387 - Train Accuracy 0.502778 - Valid Loss 1.402775 - Valid Accuracy 0.574800\n",
      "Epoch: 11/20 - Train loss 2.019132 - Train Accuracy 0.500822 - Valid Loss 1.431944 - Valid Accuracy 0.572400\n",
      "Epoch: 12/20 - Train loss 2.000810 - Train Accuracy 0.504022 - Valid Loss 1.380002 - Valid Accuracy 0.589400\n",
      "Epoch: 13/20 - Train loss 2.025864 - Train Accuracy 0.497067 - Valid Loss 1.330667 - Valid Accuracy 0.589400\n",
      "Epoch: 14/20 - Train loss 2.019559 - Train Accuracy 0.502800 - Valid Loss 1.427529 - Valid Accuracy 0.579800\n",
      "Epoch: 15/20 - Train loss 2.005575 - Train Accuracy 0.500489 - Valid Loss 1.396755 - Valid Accuracy 0.574400\n",
      "Epoch: 16/20 - Train loss 2.016327 - Train Accuracy 0.499422 - Valid Loss 1.406282 - Valid Accuracy 0.574200\n",
      "Epoch: 17/20 - Train loss 2.025680 - Train Accuracy 0.502667 - Valid Loss 1.386737 - Valid Accuracy 0.578800\n",
      "Epoch: 18/20 - Train loss 2.015754 - Train Accuracy 0.501578 - Valid Loss 1.445820 - Valid Accuracy 0.566800\n",
      "Epoch: 19/20 - Train loss 1.999960 - Train Accuracy 0.505467 - Valid Loss 1.380029 - Valid Accuracy 0.580600\n",
      "Epoch: 20/20 - Train loss 2.010847 - Train Accuracy 0.505044 - Valid Loss 1.402440 - Valid Accuracy 0.565600\n"
     ]
    }
   ],
   "source": [
    "result_model, history = train(model_conv, criterion, optimizer_conv, train_loader, valid_loader, 20)"
   ]
  },
  {
   "cell_type": "code",
   "execution_count": 86,
   "metadata": {},
   "outputs": [
    {
     "data": {
      "image/png": "[encoded data removed]",
      "text/plain": [
       "<Figure size 432x288 with 1 Axes>"
      ]
     },
     "metadata": {
      "needs_background": "light"
     },
     "output_type": "display_data"
    }
   ],
   "source": [
    "plt.plot(history[\"train_loss\"])\n",
    "plt.plot(history[\"valid_loss\"])\n",
    "plt.title(\"Error de entrenamiento vs validación\")\n",
    "plt.legend(['Train', 'Valid'])\n",
    "plt.show()"
   ]
  }
 ],
 "metadata": {
  "interpreter": {
   "hash": "d3871665a2f6324426edf5819a3bc51403d6f9933f7ec2be750a897633ccc694"
  },
  "kernelspec": {
   "display_name": "Python 3.9.7 ('base')",
   "language": "python",
   "name": "python3"
  },
  "language_info": {
   "codemirror_mode": {
    "name": "ipython",
    "version": 3
   },
   "file_extension": ".py",
   "mimetype": "text/x-python",
   "name": "python",
   "nbconvert_exporter": "python",
   "pygments_lexer": "ipython3",
   "version": "3.9.7"
  },
  "orig_nbformat": 4
 },
 "nbformat": 4,
 "nbformat_minor": 2
}
